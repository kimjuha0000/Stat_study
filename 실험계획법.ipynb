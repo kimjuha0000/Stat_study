{
  "nbformat": 4,
  "nbformat_minor": 0,
  "metadata": {
    "colab": {
      "provenance": [],
      "authorship_tag": "ABX9TyN0ZejwKTvqagV3D9KrzJlp",
      "include_colab_link": true
    },
    "kernelspec": {
      "name": "python3",
      "display_name": "Python 3"
    },
    "language_info": {
      "name": "python"
    }
  },
  "cells": [
    {
      "cell_type": "markdown",
      "metadata": {
        "id": "view-in-github",
        "colab_type": "text"
      },
      "source": [
        "<a href=\"https://colab.research.google.com/github/kimjuha0000/Stat_study/blob/main/%EC%8B%A4%ED%97%98%EA%B3%84%ED%9A%8D%EB%B2%95.ipynb\" target=\"_parent\"><img src=\"https://colab.research.google.com/assets/colab-badge.svg\" alt=\"Open In Colab\"/></a>"
      ]
    },
    {
      "cell_type": "code",
      "execution_count": 4,
      "metadata": {
        "colab": {
          "base_uri": "https://localhost:8080/"
        },
        "id": "UiB__D2z4fLg",
        "outputId": "72c8eeb2-6902-481a-9fed-451c6a609ae3"
      },
      "outputs": [
        {
          "output_type": "stream",
          "name": "stdout",
          "text": [
            "  Temperature Pressure Catalyst  Quality\n",
            "0         Low      Low   Absent       55\n",
            "1         Low      Low  Present       60\n",
            "2         Low     High   Absent       70\n",
            "3         Low     High  Present       75\n",
            "4        High      Low   Absent       65\n",
            "5        High      Low  Present       68\n",
            "6        High     High   Absent       80\n",
            "7        High     High  Present       85\n"
          ]
        }
      ],
      "source": [
        "import pandas as pd\n",
        "import numpy as np\n",
        "from statsmodels.formula.api import ols\n",
        "from statsmodels.stats.anova import anova_lm\n",
        "\n",
        "# 실험 데이터 생성\n",
        "data = pd.DataFrame({\n",
        "    'Temperature': ['Low', 'Low', 'Low', 'Low', 'High', 'High', 'High', 'High'],\n",
        "    'Pressure': ['Low', 'Low', 'High', 'High', 'Low', 'Low', 'High', 'High'],\n",
        "    'Catalyst': ['Absent', 'Present', 'Absent', 'Present', 'Absent', 'Present', 'Absent', 'Present'],\n",
        "    'Quality': [55, 60, 70, 75, 65, 68, 80, 85]  # 예시 품질 데이터\n",
        "})\n",
        "\n",
        "print(data)"
      ]
    },
    {
      "cell_type": "code",
      "source": [
        "def interpret_anova_results(anova_results, alpha=0.05):\n",
        "    \"\"\"\n",
        "    ANOVA 결과에서 P-value와 F-statistic을 기준으로 해석하는 함수\n",
        "    \"\"\"\n",
        "    for index, row in anova_results.iterrows():\n",
        "        f_value = row['F']\n",
        "        p_value = row['PR(>F)']\n",
        "        print(f\"\\nFactor: {index}\")\n",
        "        print(f\"  F-statistic: {f_value:.2f}\")\n",
        "        print(f\"  P-value: {p_value:.4f}\")\n",
        "\n",
        "        # F-statistic 해석\n",
        "        if f_value > 1:\n",
        "            print(\"  해석: 이 요인은 실험 결과에 어느 정도 영향을 미쳤습니다.\")\n",
        "        else:\n",
        "            print(\"  해석: 이 요인은 실험 결과에 큰 영향을 미치지 않았습니다.\")\n",
        "\n",
        "        # P-value 해석\n",
        "        if p_value < alpha:\n",
        "            print(f\"  해석: P-value가 {alpha}보다 작으므로, 이 요인은 결과에 통계적으로 유의미한 영향을 미쳤습니다.\")\n",
        "        else:\n",
        "            print(f\"  해석: P-value가 {alpha}보다 크므로, 이 요인은 결과에 통계적으로 유의미하지 않았습니다.\")\n",
        "\n",
        "# ANOVA 결과 해석\n",
        "interpret_anova_results(anova_results)\n"
      ],
      "metadata": {
        "colab": {
          "base_uri": "https://localhost:8080/"
        },
        "id": "ciAAsTIP66hg",
        "outputId": "16b8d723-4415-4aa1-b0d9-a1cf9fb67303"
      },
      "execution_count": 6,
      "outputs": [
        {
          "output_type": "stream",
          "name": "stdout",
          "text": [
            "\n",
            "Factor: Temperature\n",
            "  F-statistic: 361.00\n",
            "  P-value: 0.0335\n",
            "  해석: 이 요인은 실험 결과에 어느 정도 영향을 미쳤습니다.\n",
            "  해석: P-value가 0.05보다 작으므로, 이 요인은 결과에 통계적으로 유의미한 영향을 미쳤습니다.\n",
            "\n",
            "Factor: Pressure\n",
            "  F-statistic: 961.00\n",
            "  P-value: 0.0205\n",
            "  해석: 이 요인은 실험 결과에 어느 정도 영향을 미쳤습니다.\n",
            "  해석: P-value가 0.05보다 작으므로, 이 요인은 결과에 통계적으로 유의미한 영향을 미쳤습니다.\n",
            "\n",
            "Factor: Catalyst\n",
            "  F-statistic: 81.00\n",
            "  P-value: 0.0704\n",
            "  해석: 이 요인은 실험 결과에 어느 정도 영향을 미쳤습니다.\n",
            "  해석: P-value가 0.05보다 크므로, 이 요인은 결과에 통계적으로 유의미하지 않았습니다.\n",
            "\n",
            "Factor: Temperature:Pressure\n",
            "  F-statistic: 1.00\n",
            "  P-value: 0.5000\n",
            "  해석: 이 요인은 실험 결과에 어느 정도 영향을 미쳤습니다.\n",
            "  해석: P-value가 0.05보다 크므로, 이 요인은 결과에 통계적으로 유의미하지 않았습니다.\n",
            "\n",
            "Factor: Temperature:Catalyst\n",
            "  F-statistic: 1.00\n",
            "  P-value: 0.5000\n",
            "  해석: 이 요인은 실험 결과에 어느 정도 영향을 미쳤습니다.\n",
            "  해석: P-value가 0.05보다 크므로, 이 요인은 결과에 통계적으로 유의미하지 않았습니다.\n",
            "\n",
            "Factor: Pressure:Catalyst\n",
            "  F-statistic: 1.00\n",
            "  P-value: 0.5000\n",
            "  해석: 이 요인은 실험 결과에 큰 영향을 미치지 않았습니다.\n",
            "  해석: P-value가 0.05보다 크므로, 이 요인은 결과에 통계적으로 유의미하지 않았습니다.\n",
            "\n",
            "Factor: Residual\n",
            "  F-statistic: nan\n",
            "  P-value: nan\n",
            "  해석: 이 요인은 실험 결과에 큰 영향을 미치지 않았습니다.\n",
            "  해석: P-value가 0.05보다 크므로, 이 요인은 결과에 통계적으로 유의미하지 않았습니다.\n"
          ]
        }
      ]
    },
    {
      "cell_type": "code",
      "source": [],
      "metadata": {
        "id": "vUgvHajT9rrb"
      },
      "execution_count": null,
      "outputs": []
    }
  ]
}